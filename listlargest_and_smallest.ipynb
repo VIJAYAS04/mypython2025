{
  "nbformat": 4,
  "nbformat_minor": 0,
  "metadata": {
    "colab": {
      "provenance": []
    },
    "kernelspec": {
      "name": "python3",
      "display_name": "Python 3"
    },
    "language_info": {
      "name": "python"
    }
  },
  "cells": [
    {
      "cell_type": "code",
      "source": [
        "def find_largest_and_smallest(numbers_list):\n",
        "  if not numbers_list:\n",
        "    return None, None\n",
        "  largest = smallest = numbers_list[0]\n",
        "\n",
        "  for number in numbers_list[1:]:\n",
        "    if number > largest:\n",
        "      largest = number\n",
        "    elif number < smallest:\n",
        "      smallest = number\n",
        "\n",
        "  return largest, smallest"
      ],
      "metadata": {
        "id": "5aXOeC73wVpd"
      },
      "execution_count": 16,
      "outputs": []
    }
  ]
}