{
  "nbformat": 4,
  "nbformat_minor": 0,
  "metadata": {
    "colab": {
      "provenance": []
    },
    "kernelspec": {
      "name": "python3",
      "display_name": "Python 3"
    },
    "language_info": {
      "name": "python"
    }
  },
  "cells": [
    {
      "cell_type": "code",
      "source": [
        "\n",
        "def find_gcd(a, b):\n",
        "    while b != 0:\n",
        "        temp = b\n",
        "        b = a % b\n",
        "        a = temp\n",
        "    return a\n",
        "\n",
        "\n",
        "def find_lcm(a, b):\n",
        "    gcd = find_gcd(a, b)\n",
        "    lcm = abs(a * b) // gcd\n",
        "    return lcm\n",
        "\n",
        "\n",
        "num1 = int(input(\"Enter the first number: \"))\n",
        "num2 = int(input(\"Enter the second number: \"))\n",
        "\n",
        "\n",
        "lcm = find_lcm(num1, num2)\n",
        "print(f\"The Least Common Multiple (LCM) of {num1} and {num2} is {lcm}.\")\n"
      ],
      "metadata": {
        "id": "dQ336jJflkfF",
        "outputId": "c11d6520-e2ef-41df-a50f-e596580b6c80",
        "colab": {
          "base_uri": "https://localhost:8080/"
        }
      },
      "execution_count": 39,
      "outputs": [
        {
          "output_type": "stream",
          "name": "stdout",
          "text": [
            "Enter the first number: 45\n",
            "Enter the second number: 54\n",
            "The Least Common Multiple (LCM) of 45 and 54 is 270.\n"
          ]
        }
      ]
    }
  ]
}