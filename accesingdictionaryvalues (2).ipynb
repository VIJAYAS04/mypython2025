{
  "nbformat": 4,
  "nbformat_minor": 0,
  "metadata": {
    "colab": {
      "provenance": []
    },
    "kernelspec": {
      "name": "python3",
      "display_name": "Python 3"
    },
    "language_info": {
      "name": "python"
    }
  },
  "cells": [
    {
      "cell_type": "code",
      "source": [
        "  my_dict = {\n",
        "      'name': 'alice',\n",
        "      'age' :  25,\n",
        "      'city': 'new york',\n",
        "      'occupation': 'engineer'\n",
        "      }\n",
        "del my_dict['age']\n",
        "print(\"dictionary of deletion:\",my_dict )"
      ],
      "metadata": {
        "colab": {
          "base_uri": "https://localhost:8080/"
        },
        "id": "CCznOZgj7F3k",
        "outputId": "65b2f577-4c43-4a22-d443-ef24c1c57db1"
      },
      "execution_count": 47,
      "outputs": [
        {
          "output_type": "stream",
          "name": "stdout",
          "text": [
            "dictionary of deletion: {'name': 'alice', 'city': 'new york', 'occupation': 'engineer'}\n"
          ]
        }
      ]
    }
  ]
}