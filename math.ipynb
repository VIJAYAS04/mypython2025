{
  "nbformat": 4,
  "nbformat_minor": 0,
  "metadata": {
    "colab": {
      "provenance": []
    },
    "kernelspec": {
      "name": "python3",
      "display_name": "Python 3"
    },
    "language_info": {
      "name": "python"
    }
  },
  "cells": [
    {
      "cell_type": "code",
      "source": [
        "import math\n",
        "\n",
        "def calculate_math_operations(number):\n",
        "\n",
        "    square_root = math.sqrt(number)\n",
        "\n",
        "\n",
        "    if number.is_integer() and number >= 0:\n",
        "        factorial = math.factorial(int(number))\n",
        "    else:\n",
        "        factorial = \"Factorial is only defined for non-negative integers\"\n",
        "\n",
        "\n",
        "    sine = math.sin(math.radians(number))\n",
        "\n",
        "\n",
        "    print(f\"Square root of {number}: {square_root}\")\n",
        "    print(f\"Factorial of {number}: {factorial}\")\n",
        "    print(f\"Sine of {number} (in radians): {sine}\")\n",
        "\n",
        "\n",
        "number = float(input(\"Enter a number: \"))\n",
        "calculate_math_operations(number)\n"
      ],
      "metadata": {
        "colab": {
          "base_uri": "https://localhost:8080/"
        },
        "id": "bhSE6ROcQ6Va",
        "outputId": "350a283e-bc1f-4e9e-c781-7fb3418550c6"
      },
      "execution_count": 15,
      "outputs": [
        {
          "output_type": "stream",
          "name": "stdout",
          "text": [
            "Enter a number: 45\n",
            "Square root of 45.0: 6.708203932499369\n",
            "Factorial of 45.0: 119622220865480194561963161495657715064383733760000000000\n",
            "Sine of 45.0 (in radians): 0.7071067811865475\n"
          ]
        }
      ]
    }
  ]
}