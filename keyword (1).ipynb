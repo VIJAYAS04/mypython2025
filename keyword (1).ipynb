{
  "nbformat": 4,
  "nbformat_minor": 0,
  "metadata": {
    "colab": {
      "provenance": []
    },
    "kernelspec": {
      "name": "python3",
      "display_name": "Python 3"
    },
    "language_info": {
      "name": "python"
    }
  },
  "cells": [
    {
      "cell_type": "code",
      "source": [
        "def example(a, b=2, c=3):\n",
        "    print(a, b, c)\n",
        "\n",
        "example(1)  # Only 'a' is provided; 'b' and 'c' use their default values.\n",
        "example(1, 4)  # 'b' is provided, 'c' uses its default value.\n",
        "example(1, 4, 5)  # All arguments are provided.\n"
      ],
      "metadata": {
        "id": "ZRSG6WjAmm1Q",
        "outputId": "42389323-7f14-4be5-b6d3-355886e6360b",
        "colab": {
          "base_uri": "https://localhost:8080/"
        }
      },
      "execution_count": 16,
      "outputs": [
        {
          "output_type": "stream",
          "name": "stdout",
          "text": [
            "1 2 3\n",
            "1 4 3\n",
            "1 4 5\n"
          ]
        }
      ]
    }
  ]
}