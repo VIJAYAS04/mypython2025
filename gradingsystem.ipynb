{
  "nbformat": 4,
  "nbformat_minor": 0,
  "metadata": {
    "colab": {
      "provenance": []
    },
    "kernelspec": {
      "name": "python3",
      "display_name": "Python 3"
    },
    "language_info": {
      "name": "python"
    }
  },
  "cells": [
    {
      "cell_type": "code",
      "source": [
        "marks =int(input(\"enter the marks\"))\n",
        "if marks>=90:\n",
        "  print(\"a grade\")\n",
        "elif marks>=75:\n",
        "  print(\"b grade\")\n",
        "elif marks>=50:\n",
        "    print(\"c grade\")\n",
        "elif marks>=35:\n",
        "    print (\"fail\")\n"
      ],
      "metadata": {
        "id": "6oYQdMlCsKse",
        "outputId": "7a99dec9-6b0c-4164-ef90-74aa9e099ac8",
        "colab": {
          "base_uri": "https://localhost:8080/"
        }
      },
      "execution_count": 28,
      "outputs": [
        {
          "output_type": "stream",
          "name": "stdout",
          "text": [
            "enter the marks90\n",
            "a grade\n"
          ]
        }
      ]
    }
  ]
}