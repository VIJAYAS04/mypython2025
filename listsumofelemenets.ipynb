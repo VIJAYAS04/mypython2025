{
  "nbformat": 4,
  "nbformat_minor": 0,
  "metadata": {
    "colab": {
      "provenance": []
    },
    "kernelspec": {
      "name": "python3",
      "display_name": "Python 3"
    },
    "language_info": {
      "name": "python"
    }
  },
  "cells": [
    {
      "cell_type": "code",
      "source": [
        "def sum_of_elements(lst):\n",
        "    total = 0\n",
        "    for num in lst:\n",
        "        total += num\n",
        "    return total\n"
      ],
      "metadata": {
        "id": "XHe1cNRQsxW9"
      },
      "execution_count": 5,
      "outputs": []
    }
  ]
}