{
  "nbformat": 4,
  "nbformat_minor": 0,
  "metadata": {
    "colab": {
      "provenance": []
    },
    "kernelspec": {
      "name": "python3",
      "display_name": "Python 3"
    },
    "language_info": {
      "name": "python"
    }
  },
  "cells": [
    {
      "cell_type": "code",
      "source": [
        "\n",
        "def is_armstrong_number(number):\n",
        "\n",
        "    num_str = str(abs(number))\n",
        "    num_digits = len(num_str)\n",
        "\n",
        "\n",
        "    total = sum(int(digit) ** num_digits for digit in num_str)\n",
        "\n",
        "\n",
        "    return total == number\n",
        "\n",
        "\n",
        "num = int(input(\"Enter a number: \"))\n",
        "\n",
        "\n",
        "if is_armstrong_number(num):\n",
        "    print(f\"{num} is an Armstrong number.\")\n",
        "else:\n",
        "    print(f\"{num} is not an Armstrong number.\")\n"
      ],
      "metadata": {
        "id": "nLmm20TkdajI",
        "outputId": "0290fa78-d96e-4936-c507-098401af8256",
        "colab": {
          "base_uri": "https://localhost:8080/"
        }
      },
      "execution_count": 22,
      "outputs": [
        {
          "output_type": "stream",
          "name": "stdout",
          "text": [
            "Enter a number: 6\n",
            "6 is an Armstrong number.\n"
          ]
        }
      ]
    }
  ]
}