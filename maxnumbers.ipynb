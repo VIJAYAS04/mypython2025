{
  "nbformat": 4,
  "nbformat_minor": 0,
  "metadata": {
    "colab": {
      "provenance": []
    },
    "kernelspec": {
      "name": "python3",
      "display_name": "Python 3"
    },
    "language_info": {
      "name": "python"
    }
  },
  "cells": [
    {
      "cell_type": "code",
      "source": [
        "num1 = int(input(\"enter the first number\"))\n",
        "num2 = int(input(\"enter the second nukmber\"))\n",
        "num3 = int(input(\"enter the third number\"))\n",
        "if num1 >= num2 and num1>=num3:\n",
        "   print(f\"the largest number is {num1}\")\n",
        "elif num2 >= num1 and num2 >= num3:\n",
        "     print(f\"the largest number is {num2}\")\n",
        "else:\n",
        "        print(f\"the largest number is {num3}\")\n",
        "        print(\"the largest number is {num3}\")"
      ],
      "metadata": {
        "collapsed": true,
        "id": "igCROyWAuNAo",
        "outputId": "52e09d9c-4688-44ac-c2d2-2ba2491430d2",
        "colab": {
          "base_uri": "https://localhost:8080/"
        }
      },
      "execution_count": 32,
      "outputs": [
        {
          "output_type": "stream",
          "name": "stdout",
          "text": [
            "enter the first number34\n",
            "enter the second nukmber45\n",
            "enter the third number56\n",
            "the largest number is 56\n",
            "the largest number is {num3}\n"
          ]
        }
      ]
    }
  ]
}