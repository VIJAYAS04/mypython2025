{
  "nbformat": 4,
  "nbformat_minor": 0,
  "metadata": {
    "colab": {
      "provenance": []
    },
    "kernelspec": {
      "name": "python3",
      "display_name": "Python 3"
    },
    "language_info": {
      "name": "python"
    }
  },
  "cells": [
    {
      "cell_type": "code",
      "source": [
        "def count_elements(numbers, element_to_count):\n",
        "  count = numbers.count(element_to_count)\n",
        "  return count\n",
        "numbers = [1, 2, 3, 4, 5, 5, 6]\n",
        "element_to_count = 2\n",
        "count = count_elements(numbers, element_to_count)\n",
        "print(f\"The element {element_to_count} appears {count} time in the list.\")"
      ],
      "metadata": {
        "colab": {
          "base_uri": "https://localhost:8080/"
        },
        "id": "fHLoAa74zsXs",
        "outputId": "932de31a-cc34-4331-a597-a9a6248175dd"
      },
      "execution_count": 25,
      "outputs": [
        {
          "output_type": "stream",
          "name": "stdout",
          "text": [
            "The element 2 appears 1 time in the list.\n"
          ]
        }
      ]
    }
  ]
}