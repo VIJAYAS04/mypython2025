{
  "nbformat": 4,
  "nbformat_minor": 0,
  "metadata": {
    "colab": {
      "provenance": []
    },
    "kernelspec": {
      "name": "python3",
      "display_name": "Python 3"
    },
    "language_info": {
      "name": "python"
    }
  },
  "cells": [
    {
      "cell_type": "code",
      "source": [
        "def example(a, b=2, c=3):\n",
        "    print(a, b, c)\n",
        "\n",
        "example(1)\n",
        "example(1, 4)\n",
        "example(1, 4, 5)\n"
      ],
      "metadata": {
        "colab": {
          "base_uri": "https://localhost:8080/"
        },
        "id": "qPa07mkpm3o7",
        "outputId": "dfc45863-896f-4358-b126-b226dfa15149"
      },
      "execution_count": 17,
      "outputs": [
        {
          "output_type": "stream",
          "name": "stdout",
          "text": [
            "1 2 3\n",
            "1 4 3\n",
            "1 4 5\n"
          ]
        }
      ]
    }
  ]
}