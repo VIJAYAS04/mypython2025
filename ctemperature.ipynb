{
  "nbformat": 4,
  "nbformat_minor": 0,
  "metadata": {
    "colab": {
      "provenance": []
    },
    "kernelspec": {
      "name": "python3",
      "display_name": "Python 3"
    },
    "language_info": {
      "name": "python"
    }
  },
  "cells": [
    {
      "cell_type": "code",
      "source": [
        "celsius = float(input(\"enter the temp in celsius\"))\n",
        "faren = (celsius * 9 / 5) + 32\n",
        "print(\"temperature in faren\", faren)\n"
      ],
      "metadata": {
        "colab": {
          "base_uri": "https://localhost:8080/"
        },
        "id": "b8ax0XH8bboy",
        "outputId": "413ea887-6ce5-4a31-cad6-75326b83eb3c"
      },
      "execution_count": 19,
      "outputs": [
        {
          "output_type": "stream",
          "name": "stdout",
          "text": [
            "enter the temp in celsius4\n",
            "temperature in faren 39.2\n"
          ]
        }
      ]
    }
  ]
}