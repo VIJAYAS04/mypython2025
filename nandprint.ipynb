{
  "nbformat": 4,
  "nbformat_minor": 0,
  "metadata": {
    "colab": {
      "provenance": []
    },
    "kernelspec": {
      "name": "python3",
      "display_name": "Python 3"
    },
    "language_info": {
      "name": "python"
    }
  },
  "cells": [
    {
      "cell_type": "code",
      "source": [
        "\n",
        "def countdown(N):\n",
        "    while N >= 1:\n",
        "        print(N)\n",
        "        N -= 1\n",
        "\n",
        "\n",
        "N = int(input(\"Enter a number: \"))\n",
        "\n",
        "\n",
        "countdown(N)\n"
      ],
      "metadata": {
        "id": "pNHp9ubbcijc",
        "outputId": "2ae2582b-fe03-4ece-de70-fae76826c092",
        "colab": {
          "base_uri": "https://localhost:8080/"
        }
      },
      "execution_count": 21,
      "outputs": [
        {
          "output_type": "stream",
          "name": "stdout",
          "text": [
            "Enter a number: 5\n",
            "5\n",
            "4\n",
            "3\n",
            "2\n",
            "1\n"
          ]
        }
      ]
    }
  ]
}