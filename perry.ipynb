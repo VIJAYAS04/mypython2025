{
  "nbformat": 4,
  "nbformat_minor": 0,
  "metadata": {
    "colab": {
      "provenance": []
    },
    "kernelspec": {
      "name": "python3",
      "display_name": "Python 3"
    },
    "language_info": {
      "name": "python"
    }
  },
  "cells": [
    {
      "cell_type": "code",
      "source": [
        "length=int(input(\"enter the length\"))\n",
        "breadth=int(input(\"enter the breadth\"))\n",
        "area=length*breadth\n",
        "perimeter=2*(length+breadth)\n",
        "print(\"area of length\",length)\n",
        "print(\"area of breadth\",breadth)"
      ],
      "metadata": {
        "colab": {
          "base_uri": "https://localhost:8080/"
        },
        "id": "PD-jxKW-5MXD",
        "outputId": "209a37f8-165f-4377-836d-4da3aae5f613"
      },
      "execution_count": 2,
      "outputs": [
        {
          "output_type": "stream",
          "name": "stdout",
          "text": [
            "enter the length100\n",
            "enter the breadth50\n",
            "area of length 100\n",
            "area of breadth 50\n"
          ]
        }
      ]
    }
  ]
}