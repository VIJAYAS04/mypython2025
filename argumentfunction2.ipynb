{
  "nbformat": 4,
  "nbformat_minor": 0,
  "metadata": {
    "colab": {
      "provenance": []
    },
    "kernelspec": {
      "name": "python3",
      "display_name": "Python 3"
    },
    "language_info": {
      "name": "python"
    }
  },
  "cells": [
    {
      "cell_type": "code",
      "source": [
        "def sum_of_arguments(*args):\n",
        "  print(sum_of_arguments(1, 2, 3))\n",
        "  print(sum_of_arguments(10, 20, 30, 40))\n",
        "  print(sum_of_arguments(5))\n"
      ],
      "metadata": {
        "id": "T-eqe6dNPwif"
      },
      "execution_count": 13,
      "outputs": []
    }
  ]
}