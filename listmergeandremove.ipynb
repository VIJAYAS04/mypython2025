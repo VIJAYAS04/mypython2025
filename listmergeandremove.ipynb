{
  "nbformat": 4,
  "nbformat_minor": 0,
  "metadata": {
    "colab": {
      "provenance": []
    },
    "kernelspec": {
      "name": "python3",
      "display_name": "Python 3"
    },
    "language_info": {
      "name": "python"
    }
  },
  "cells": [
    {
      "cell_type": "code",
      "source": [
        "def merge_end_remove_duplicates(list1,list2):\n",
        "  merged_list = list1+list2\n",
        "  unique_list = list(set(merged_list))\n",
        "  return unique_list\n",
        "\n",
        "list1 = [1,2,3,4]\n",
        "list2 = [3,4,5,6]\n",
        "result = merge_end_remove_duplicates(list1,list2)\n",
        "print (result)"
      ],
      "metadata": {
        "colab": {
          "base_uri": "https://localhost:8080/"
        },
        "id": "rpPMimmt0aNJ",
        "outputId": "8ec52ccc-3436-437b-8f83-f0e785c1a338"
      },
      "execution_count": 28,
      "outputs": [
        {
          "output_type": "stream",
          "name": "stdout",
          "text": [
            "[1, 2, 3, 4, 5, 6]\n"
          ]
        }
      ]
    }
  ]
}