{
  "nbformat": 4,
  "nbformat_minor": 0,
  "metadata": {
    "colab": {
      "provenance": []
    },
    "kernelspec": {
      "name": "python3",
      "display_name": "Python 3"
    },
    "language_info": {
      "name": "python"
    }
  },
  "cells": [
    {
      "cell_type": "code",
      "execution_count": 2,
      "metadata": {
        "colab": {
          "base_uri": "https://localhost:8080/"
        },
        "id": "FsUyQzHc0cAM",
        "outputId": "5b99d779-77f9-48f7-a8ad-64e6b82d380f"
      },
      "outputs": [
        {
          "output_type": "stream",
          "name": "stdout",
          "text": [
            "enter a year2024\n",
            "enter a year2025\n",
            "not leap year\n"
          ]
        }
      ],
      "source": [
        "year=int(input(\"enter a year\"))\n",
        "year=int(input(\"enter a year\"))\n",
        "if(year%4 ==0 and year%100!=0 or year%400==0):\n",
        "  print(\" leap year\")\n",
        "else:\n",
        "    print(\"not leap year\")"
      ]
    }
  ]
}