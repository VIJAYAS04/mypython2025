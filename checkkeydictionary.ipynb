{
  "nbformat": 4,
  "nbformat_minor": 0,
  "metadata": {
    "colab": {
      "provenance": []
    },
    "kernelspec": {
      "name": "python3",
      "display_name": "Python 3"
    },
    "language_info": {
      "name": "python"
    }
  },
  "cells": [
    {
      "cell_type": "code",
      "source": [
        "my_dict = {\n",
        "    'name':'alice',\n",
        "    'age' :'25',\n",
        "    'city':'new york',\n",
        "    'occupation':'engineer'\n",
        "}\n",
        "key_to_check = 'age'\n",
        "if key_to_check in my_dict:\n",
        "   print(f\"Key '{key_to_check}' exists in the dictionary with value: {my_dict[key_to_check]}\")\n",
        "else:\n",
        "   print(f\"Key '{key_to_check}' does not exist in the dictionary.\")"
      ],
      "metadata": {
        "colab": {
          "base_uri": "https://localhost:8080/"
        },
        "id": "ML00V4umDDHV",
        "outputId": "e4decc4f-0a9d-40ee-b1fd-d3c2469ba24d"
      },
      "execution_count": 54,
      "outputs": [
        {
          "output_type": "stream",
          "name": "stdout",
          "text": [
            "Key 'age' exists in the dictionary with value: 25\n"
          ]
        }
      ]
    }
  ]
}