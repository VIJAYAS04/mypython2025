{
  "nbformat": 4,
  "nbformat_minor": 0,
  "metadata": {
    "colab": {
      "provenance": []
    },
    "kernelspec": {
      "name": "python3",
      "display_name": "Python 3"
    },
    "language_info": {
      "name": "python"
    }
  },
  "cells": [
    {
      "cell_type": "code",
      "source": [
        "my_dict = {\n",
        "    'name': 'Alice',\n",
        "    'age': 25,\n",
        "    'city': 'New York',\n",
        "    'occupation': 'Engineer'\n",
        "}\n",
        "\n",
        "\n",
        "print(\"Keys in the dictionary:\")\n",
        "for key in my_dict:\n",
        "    print(key)\n",
        "\n",
        "\n",
        "print(\"\\nValues in the dictionary:\")\n",
        "for value in my_dict.values():\n",
        "    print(value)\n"
      ],
      "metadata": {
        "colab": {
          "base_uri": "https://localhost:8080/"
        },
        "id": "_Hio9X91CPQw",
        "outputId": "ba19fe3f-9590-473b-ef4d-e85314b24f1b"
      },
      "execution_count": 50,
      "outputs": [
        {
          "output_type": "stream",
          "name": "stdout",
          "text": [
            "Keys in the dictionary:\n",
            "name\n",
            "age\n",
            "city\n",
            "occupation\n",
            "\n",
            "Values in the dictionary:\n",
            "Alice\n",
            "25\n",
            "New York\n",
            "Engineer\n"
          ]
        }
      ]
    }
  ]
}