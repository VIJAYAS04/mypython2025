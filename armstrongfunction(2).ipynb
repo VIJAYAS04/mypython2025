{
  "nbformat": 4,
  "nbformat_minor": 0,
  "metadata": {
    "colab": {
      "provenance": []
    },
    "kernelspec": {
      "name": "python3",
      "display_name": "Python 3"
    },
    "language_info": {
      "name": "python"
    }
  },
  "cells": [
    {
      "cell_type": "code",
      "source": [
        "def is_armstrong(n):\n",
        "    num_str = str(n)\n",
        "    num_digits = len(num_str)\n",
        "    armstrong_sum = sum(int(digit)** num_digits for digit in num_str)\n",
        "    return armstrong_sum == n\n",
        "\n",
        "number = int(input(\"enter a number:\"))\n",
        "if is_armstrong(number):\n",
        "  print(f\"{number}is an armstrong number.\")\n",
        "else:\n",
        "  print(f\"{number}is not an armstrong number.\")"
      ],
      "metadata": {
        "colab": {
          "base_uri": "https://localhost:8080/"
        },
        "id": "tvw-SGLLwvSC",
        "outputId": "69ce9a08-20fb-4c54-b8c9-f1401b4fdd4e"
      },
      "execution_count": 29,
      "outputs": [
        {
          "output_type": "stream",
          "name": "stdout",
          "text": [
            "enter a number:153\n",
            "153is an armstrong number.\n"
          ]
        }
      ]
    }
  ]
}