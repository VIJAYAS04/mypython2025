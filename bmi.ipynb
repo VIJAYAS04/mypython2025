{
  "nbformat": 4,
  "nbformat_minor": 0,
  "metadata": {
    "colab": {
      "provenance": []
    },
    "kernelspec": {
      "name": "python3",
      "display_name": "Python 3"
    },
    "language_info": {
      "name": "python"
    }
  },
  "cells": [
    {
      "cell_type": "code",
      "source": [
        "w=int(input(\"enter yor weight\"))\n",
        "h=float(input(\"enter your heigt\"))\n",
        "bmi=w/(h*h)\n",
        "print(bmi)"
      ],
      "metadata": {
        "colab": {
          "base_uri": "https://localhost:8080/"
        },
        "id": "TuowpS4TewVa",
        "outputId": "d24a8188-5678-47aa-95c4-071334ad559e"
      },
      "execution_count": 23,
      "outputs": [
        {
          "output_type": "stream",
          "name": "stdout",
          "text": [
            "enter yor weight70\n",
            "enter your heigt190\n",
            "0.0019390581717451524\n"
          ]
        }
      ]
    }
  ]
}