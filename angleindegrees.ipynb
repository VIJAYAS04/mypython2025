{
  "nbformat": 4,
  "nbformat_minor": 0,
  "metadata": {
    "colab": {
      "provenance": []
    },
    "kernelspec": {
      "name": "python3",
      "display_name": "Python 3"
    },
    "language_info": {
      "name": "python"
    }
  },
  "cells": [
    {
      "cell_type": "code",
      "source": [
        "import math\n",
        "angle = float(input(\"enter angle in degrees\"))\n",
        "radian = math.radians(angle)\n",
        "print(\"sine of angle:\",math.sin(radian))\n",
        "print(\"cosine of angele:\",math.cos(radian))"
      ],
      "metadata": {
        "colab": {
          "base_uri": "https://localhost:8080/"
        },
        "id": "IMls87efI6SR",
        "outputId": "4a4978bb-5875-483e-f485-4315f84cf853"
      },
      "execution_count": 23,
      "outputs": [
        {
          "output_type": "stream",
          "name": "stdout",
          "text": [
            "enter angle in degrees120\n",
            "sine of angle: 0.8660254037844387\n",
            "cosine of angele: -0.4999999999999998\n"
          ]
        }
      ]
    }
  ]
}