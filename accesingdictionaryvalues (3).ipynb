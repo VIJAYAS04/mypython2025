{
  "nbformat": 4,
  "nbformat_minor": 0,
  "metadata": {
    "colab": {
      "provenance": []
    },
    "kernelspec": {
      "name": "python3",
      "display_name": "Python 3"
    },
    "language_info": {
      "name": "python"
    }
  },
  "cells": [
    {
      "cell_type": "code",
      "source": [
        "my_dict = {\n",
        "    'name': 'unknown',\n",
        "    'age': 25,\n",
        "    'city': 'paris',\n",
        "    'occupation': 'Engineer'\n",
        "}\n",
        "for key, value in my_dict.items():\n",
        "    print(f\"Key: {key}, Value: {value}\")\n"
      ],
      "metadata": {
        "colab": {
          "base_uri": "https://localhost:8080/"
        },
        "id": "TNoM2CtABQf-",
        "outputId": "4bd504c3-fca5-4446-e4f9-8cc020aa331c"
      },
      "execution_count": 49,
      "outputs": [
        {
          "output_type": "stream",
          "name": "stdout",
          "text": [
            "Key: name, Value: moni\n",
            "Key: age, Value: 25\n",
            "Key: city, Value: arsikere\n",
            "Key: occupation, Value: Engineer\n"
          ]
        }
      ]
    }
  ]
}