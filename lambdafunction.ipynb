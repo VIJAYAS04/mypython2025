{
  "nbformat": 4,
  "nbformat_minor": 0,
  "metadata": {
    "colab": {
      "provenance": []
    },
    "kernelspec": {
      "name": "python3",
      "display_name": "Python 3"
    },
    "language_info": {
      "name": "python"
    }
  },
  "cells": [
    {
      "cell_type": "code",
      "source": [
        "def complex_lambda(x):\n",
        "  print(complex_lambda(5))\n",
        "  print(complex_lambda(3))\n"
      ],
      "metadata": {
        "id": "6feVbR6oSMOD"
      },
      "execution_count": 19,
      "outputs": []
    }
  ]
}