{
  "nbformat": 4,
  "nbformat_minor": 0,
  "metadata": {
    "colab": {
      "provenance": []
    },
    "kernelspec": {
      "name": "python3",
      "display_name": "Python 3"
    },
    "language_info": {
      "name": "python"
    }
  },
  "cells": [
    {
      "cell_type": "code",
      "source": [
        "\n",
        "def print_pascals_triangle(n):\n",
        "    for i in range(n):\n",
        "\n",
        "        for j in range(n - i - 1):\n",
        "            print(\" \", end=\"\")\n",
        "\n",
        "\n",
        "        value = 1\n",
        "        for j in range(i + 1):\n",
        "            print(value, end=\" \")\n",
        "            value = value * (i - j) // (j + 1)\n",
        "\n",
        "        print()\n",
        "def print_floyds_triangle(n):\n",
        "    num = 1\n",
        "    for i in range(1, n + 1):\n",
        "        for j in range(1, i + 1):\n",
        "            print(num, end=\" \")\n",
        "            num += 1\n",
        "        print()\n",
        "\n",
        "\n",
        "n = int(input(\"Enter the number of rows: \"))\n",
        "\n",
        "print(\"\\nPascal's Triangle:\")\n",
        "print_pascals_triangle(n)\n",
        "\n",
        "print(\"\\nFloyd's Triangle:\")\n",
        "print_floyds_triangle(n)\n"
      ],
      "metadata": {
        "id": "Jr6i4l1_m-Jw"
      },
      "execution_count": null,
      "outputs": []
    }
  ]
}