{
  "nbformat": 4,
  "nbformat_minor": 0,
  "metadata": {
    "colab": {
      "provenance": []
    },
    "kernelspec": {
      "name": "python3",
      "display_name": "Python 3"
    },
    "language_info": {
      "name": "python"
    }
  },
  "cells": [
    {
      "cell_type": "code",
      "source": [
        "my_dict = {\n",
        "    'name': 'alice',\n",
        "    'age' :  25,\n",
        "    'city': 'new york'\n",
        "}\n",
        "print(\"dictionary:\",my_dict)\n"
      ],
      "metadata": {
        "colab": {
          "base_uri": "https://localhost:8080/"
        },
        "id": "CCznOZgj7F3k",
        "outputId": "8566cab2-61c9-4dd6-a871-a499301b074b"
      },
      "execution_count": 38,
      "outputs": [
        {
          "output_type": "stream",
          "name": "stdout",
          "text": [
            "dictionary: {'name': 'alice', 'age': 25, 'city': 'new york'}\n"
          ]
        }
      ]
    }
  ]
}