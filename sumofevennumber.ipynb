{
  "nbformat": 4,
  "nbformat_minor": 0,
  "metadata": {
    "colab": {
      "provenance": []
    },
    "kernelspec": {
      "name": "python3",
      "display_name": "Python 3"
    },
    "language_info": {
      "name": "python"
    }
  },
  "cells": [
    {
      "cell_type": "code",
      "source": [
        "a=int(input(\"enter  a number\"))\n",
        "b=int(input(\"enter b number\"))\n",
        "even_sum=0\n",
        "for i in range(a,b+1):\n",
        "  if i%2==0:\n",
        "    even_sum=even_sum+i\n",
        "    print(even_sum)"
      ],
      "metadata": {
        "colab": {
          "base_uri": "https://localhost:8080/"
        },
        "id": "MdIDYM-o6Xi1",
        "outputId": "9a9851fd-2fe1-4781-e737-b3fb6d62d350"
      },
      "execution_count": 17,
      "outputs": [
        {
          "output_type": "stream",
          "name": "stdout",
          "text": [
            "enter  a number2\n",
            "enter b number4\n",
            "2\n",
            "6\n"
          ]
        }
      ]
    }
  ]
}