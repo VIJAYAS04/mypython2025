{
  "nbformat": 4,
  "nbformat_minor": 0,
  "metadata": {
    "colab": {
      "provenance": []
    },
    "kernelspec": {
      "name": "python3",
      "display_name": "Python 3"
    },
    "language_info": {
      "name": "python"
    }
  },
  "cells": [
    {
      "cell_type": "code",
      "source": [
        "my_tuple = [10,20,30,40,50]\n",
        "a,b,c,d,e = my_tuple\n",
        "print(\"a\",a)\n",
        "print(\"b\",b)\n",
        "print(\"c\",c)\n",
        "print(\"d\",d)\n",
        "print(\"e\",e)"
      ],
      "metadata": {
        "colab": {
          "base_uri": "https://localhost:8080/"
        },
        "id": "fdJvIray3mAC",
        "outputId": "161679e6-3765-4393-c843-a03b0d634d1a"
      },
      "execution_count": 32,
      "outputs": [
        {
          "output_type": "stream",
          "name": "stdout",
          "text": [
            "a 10\n",
            "b 20\n",
            "c 30\n",
            "d 40\n",
            "e 50\n"
          ]
        }
      ]
    }
  ]
}