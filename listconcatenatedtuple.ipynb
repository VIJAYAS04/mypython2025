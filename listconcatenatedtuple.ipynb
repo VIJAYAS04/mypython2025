{
  "nbformat": 4,
  "nbformat_minor": 0,
  "metadata": {
    "colab": {
      "provenance": []
    },
    "kernelspec": {
      "name": "python3",
      "display_name": "Python 3"
    },
    "language_info": {
      "name": "python"
    }
  },
  "cells": [
    {
      "cell_type": "code",
      "source": [
        "tuple1 = (1,2,3,4)\n",
        "tuple2= (5,6,7,8)\n",
        "result_tuple = tuple1 + tuple2\n",
        "print(\"concatenated tuple\",result_tuple)"
      ],
      "metadata": {
        "colab": {
          "base_uri": "https://localhost:8080/"
        },
        "id": "gANL6_0c6Rv9",
        "outputId": "e28bc5e5-f0cb-4516-9c9c-134357bdbd63"
      },
      "execution_count": 35,
      "outputs": [
        {
          "output_type": "stream",
          "name": "stdout",
          "text": [
            "concatenated tuple (1, 2, 3, 4, 5, 6, 7, 8)\n"
          ]
        }
      ]
    }
  ]
}