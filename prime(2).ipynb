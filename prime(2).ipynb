{
  "nbformat": 4,
  "nbformat_minor": 0,
  "metadata": {
    "colab": {
      "provenance": []
    },
    "kernelspec": {
      "name": "python3",
      "display_name": "Python 3"
    },
    "language_info": {
      "name": "python"
    }
  },
  "cells": [
    {
      "cell_type": "code",
      "source": [
        "def is_prime(n):\n",
        "  if n< 2:\n",
        "    return False\n",
        "    for i in range(2,int(n**0.5+1)):\n",
        "      if n % i == 0:\n",
        "        return true\n",
        "print(is_prime(17))\n",
        "print(is_prime(15))"
      ],
      "metadata": {
        "colab": {
          "base_uri": "https://localhost:8080/"
        },
        "id": "SSEP6l39o44L",
        "outputId": "f5b4c065-332d-4f29-a5a5-0a04b4e9e584"
      },
      "execution_count": 18,
      "outputs": [
        {
          "output_type": "stream",
          "name": "stdout",
          "text": [
            "None\n",
            "None\n"
          ]
        }
      ]
    }
  ]
}