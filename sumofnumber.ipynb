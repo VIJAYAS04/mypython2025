{
  "nbformat": 4,
  "nbformat_minor": 0,
  "metadata": {
    "colab": {
      "provenance": []
    },
    "kernelspec": {
      "name": "python3",
      "display_name": "Python 3"
    },
    "language_info": {
      "name": "python"
    }
  },
  "cells": [
    {
      "cell_type": "code",
      "source": [
        "\n",
        "def sum_of_digits(number):\n",
        "    total = 0\n",
        "\n",
        "    for digit in str(abs(number)):\n",
        "        total += int(digit)\n",
        "    return total\n",
        "num = int(input(\"Enter a number: \"))\n",
        "\n",
        "\n",
        "result = sum_of_digits(num)\n",
        "print(f\"The sum of the digits of {num} is {result}.\")\n"
      ],
      "metadata": {
        "id": "yPoIIMyzeBVd",
        "outputId": "e2ca51b1-41ec-4812-f459-53e4d3f75c64",
        "colab": {
          "base_uri": "https://localhost:8080/"
        }
      },
      "execution_count": 23,
      "outputs": [
        {
          "output_type": "stream",
          "name": "stdout",
          "text": [
            "Enter a number: 56\n",
            "The sum of the digits of 56 is 11.\n"
          ]
        }
      ]
    }
  ]
}