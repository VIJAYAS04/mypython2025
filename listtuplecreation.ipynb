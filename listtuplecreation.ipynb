{
  "nbformat": 4,
  "nbformat_minor": 0,
  "metadata": {
    "colab": {
      "provenance": []
    },
    "kernelspec": {
      "name": "python3",
      "display_name": "Python 3"
    },
    "language_info": {
      "name": "python"
    }
  },
  "cells": [
    {
      "cell_type": "code",
      "source": [
        "my_tuple = [10,20,30,40,50]\n",
        "print(\"my element at index at 0:\",my_tuple[0])\n",
        "print(\"my element at index at 1:\",my_tuple[1])\n",
        "print(\"my element at index at 2:\",my_tuple[2])\n",
        "print(\"my element at index at 3;\",my_tuple[3])\n",
        "print(\"my element at index at 4:\",my_tuple[4])"
      ],
      "metadata": {
        "colab": {
          "base_uri": "https://localhost:8080/"
        },
        "id": "oN4c7fWP13Z3",
        "outputId": "3a5f573d-f355-4653-ef41-8176536b019f"
      },
      "execution_count": 30,
      "outputs": [
        {
          "output_type": "stream",
          "name": "stdout",
          "text": [
            "my element at index at 0: 10\n",
            "my element at index at 1: 20\n",
            "my element at index at 2: 30\n",
            "my element at index at 3; 40\n",
            "my element at index at 4: 50\n"
          ]
        }
      ]
    }
  ]
}