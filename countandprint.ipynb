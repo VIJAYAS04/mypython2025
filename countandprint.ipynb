{
  "nbformat": 4,
  "nbformat_minor": 0,
  "metadata": {
    "colab": {
      "provenance": []
    },
    "kernelspec": {
      "name": "python3",
      "display_name": "Python 3"
    },
    "language_info": {
      "name": "python"
    }
  },
  "cells": [
    {
      "cell_type": "code",
      "source": [
        "\n",
        "def count_digits(number):\n",
        "\n",
        "    return len(str(abs(number)))\n",
        "\n",
        "\n",
        "num = int(input(\"Enter an integer: \"))\n",
        "\n",
        "\n",
        "digit_count = count_digits(num)\n",
        "print(f\"The number {num} has {digit_count} digits.\")\n"
      ],
      "metadata": {
        "id": "DubEkt0gelFr",
        "outputId": "a682cfa4-ec94-416f-845d-932c940afa49",
        "colab": {
          "base_uri": "https://localhost:8080/"
        }
      },
      "execution_count": 24,
      "outputs": [
        {
          "output_type": "stream",
          "name": "stdout",
          "text": [
            "Enter an integer: 67\n",
            "The number 67 has 2 digits.\n"
          ]
        }
      ]
    }
  ]
}