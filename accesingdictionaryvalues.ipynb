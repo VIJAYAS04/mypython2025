{
  "nbformat": 4,
  "nbformat_minor": 0,
  "metadata": {
    "colab": {
      "provenance": []
    },
    "kernelspec": {
      "name": "python3",
      "display_name": "Python 3"
    },
    "language_info": {
      "name": "python"
    }
  },
  "cells": [
    {
      "cell_type": "code",
      "source": [
        "my_dict = {\n",
        "    'name': 'alice',\n",
        "    'age' :  25,\n",
        "    'city': 'new york'\n",
        "}\n",
        "name = my_dict['name']\n",
        "age = my_dict['age']\n",
        "city = my_dict['city']\n",
        "print(\"name:\",name)\n",
        "print(\"age:\",age)\n",
        "print(\"city:\",city)"
      ],
      "metadata": {
        "colab": {
          "base_uri": "https://localhost:8080/"
        },
        "id": "CCznOZgj7F3k",
        "outputId": "7cef7056-f6c3-4d63-d488-0aa4aa823595"
      },
      "execution_count": 39,
      "outputs": [
        {
          "output_type": "stream",
          "name": "stdout",
          "text": [
            "name: alice\n",
            "age: 25\n",
            "city: new york\n"
          ]
        }
      ]
    }
  ]
}