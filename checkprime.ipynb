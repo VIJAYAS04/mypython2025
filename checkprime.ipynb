{
  "nbformat": 4,
  "nbformat_minor": 0,
  "metadata": {
    "colab": {
      "provenance": []
    },
    "kernelspec": {
      "name": "python3",
      "display_name": "Python 3"
    },
    "language_info": {
      "name": "python"
    }
  },
  "cells": [
    {
      "cell_type": "code",
      "source": [
        "\n",
        "def is_prime(number):\n",
        "    if number <= 1:\n",
        "        return False\n",
        "    for i in range(2, int(number ** 0.5) + 1):\n",
        "        if number % i == 0:\n",
        "            return False\n",
        "    return True\n",
        "\n",
        "\n",
        "num = int(input(\"Enter a number: \"))\n",
        "\n",
        "\n",
        "if is_prime(num):\n",
        "    print(f\"{num} is a prime number.\")\n",
        "else:\n",
        "    print(f\"{num} is not a prime number.\")\n"
      ],
      "metadata": {
        "id": "HDIJNP0LgGZ8",
        "outputId": "89288a25-9dff-49c7-db92-f3d797564c86",
        "colab": {
          "base_uri": "https://localhost:8080/"
        }
      },
      "execution_count": 29,
      "outputs": [
        {
          "output_type": "stream",
          "name": "stdout",
          "text": [
            "Enter a number: 4\n",
            "4 is not a prime number.\n"
          ]
        }
      ]
    }
  ]
}