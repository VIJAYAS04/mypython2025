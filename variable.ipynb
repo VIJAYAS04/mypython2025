{
  "nbformat": 4,
  "nbformat_minor": 0,
  "metadata": {
    "colab": {
      "provenance": []
    },
    "kernelspec": {
      "name": "python3",
      "display_name": "Python 3"
    },
    "language_info": {
      "name": "python"
    }
  },
  "cells": [
    {
      "cell_type": "code",
      "source": [
        "def example(a, *args):\n",
        "    print(a)\n",
        "    print(args)\n",
        "\n",
        "example(1, 2, 3, 4, 5)  # 'a' gets 1, 'args' gets a tuple (2, 3, 4, 5)\n"
      ],
      "metadata": {
        "colab": {
          "base_uri": "https://localhost:8080/"
        },
        "id": "Z7RfUNO0nKNQ",
        "outputId": "9dc6239e-d214-4fe3-8b85-3d265041d628"
      },
      "execution_count": 18,
      "outputs": [
        {
          "output_type": "stream",
          "name": "stdout",
          "text": [
            "1\n",
            "(2, 3, 4, 5)\n"
          ]
        }
      ]
    }
  ]
}