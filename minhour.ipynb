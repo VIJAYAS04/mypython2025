{
  "nbformat": 4,
  "nbformat_minor": 0,
  "metadata": {
    "colab": {
      "provenance": []
    },
    "kernelspec": {
      "name": "python3",
      "display_name": "Python 3"
    },
    "language_info": {
      "name": "python"
    }
  },
  "cells": [
    {
      "cell_type": "code",
      "execution_count": 1,
      "metadata": {
        "colab": {
          "base_uri": "https://localhost:8080/"
        },
        "id": "XIpTOcMa4Qv0",
        "outputId": "2ef1c566-9acf-4aee-aa54-8a67f5e4727b"
      },
      "outputs": [
        {
          "output_type": "stream",
          "name": "stdout",
          "text": [
            "enter the time in sec60\n",
            "1.0\n",
            "0\n"
          ]
        }
      ],
      "source": [
        "min=int(input(\"enter the time in sec\"))\n",
        "hour=min/60\n",
        "remainingminutes=min%60\n",
        "print(hour)\n",
        "print(remainingminutes)"
      ]
    }
  ]
}