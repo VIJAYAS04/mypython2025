{
  "nbformat": 4,
  "nbformat_minor": 0,
  "metadata": {
    "colab": {
      "provenance": []
    },
    "kernelspec": {
      "name": "python3",
      "display_name": "Python 3"
    },
    "language_info": {
      "name": "python"
    }
  },
  "cells": [
    {
      "cell_type": "code",
      "source": [
        "num1=float(input(\"enter 1st number\"))\n",
        "num2=float(input(\"enter 2nd number\"))\n",
        "num3=float(input(\"enter 3rd number\"))\n",
        "if num1>=num2 and num1>=num3:\n",
        "           print(\"largest number is:\",num1)\n",
        "elif (\"num2>=num1 and num2>=num3\"):\n",
        "           print(\"largest number is num2\")\n",
        "\n",
        "else:\n",
        "           print(\"largest number is num3\")\n",
        "\n",
        "\n"
      ],
      "metadata": {
        "colab": {
          "base_uri": "https://localhost:8080/"
        },
        "id": "ppTpSNFe1uLN",
        "outputId": "da476489-1a81-42eb-b9c0-fc506ecd1c64"
      },
      "execution_count": 15,
      "outputs": [
        {
          "output_type": "stream",
          "name": "stdout",
          "text": [
            "enter 1st number4\n",
            "enter 2nd number6\n",
            "enter 3rd number8\n",
            "largest number is num2\n"
          ]
        }
      ]
    }
  ]
}