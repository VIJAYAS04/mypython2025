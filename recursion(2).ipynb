{
  "nbformat": 4,
  "nbformat_minor": 0,
  "metadata": {
    "colab": {
      "provenance": []
    },
    "kernelspec": {
      "name": "python3",
      "display_name": "Python 3"
    },
    "language_info": {
      "name": "python"
    }
  },
  "cells": [
    {
      "cell_type": "code",
      "source": [
        "def power(base,exp):\n",
        "    if exp == 0:\n",
        "        return 1\n",
        "    return base*power(base,exp-1)\n",
        "print(power(2,3))\n",
        "print(power(5,0))\n",
        "print(power(3,4))"
      ],
      "metadata": {
        "colab": {
          "base_uri": "https://localhost:8080/"
        },
        "id": "9dHT57hV1UZ2",
        "outputId": "ff805a53-5837-4672-c221-80f147a7a368"
      },
      "execution_count": 31,
      "outputs": [
        {
          "output_type": "stream",
          "name": "stdout",
          "text": [
            "8\n",
            "1\n",
            "81\n"
          ]
        }
      ]
    }
  ]
}