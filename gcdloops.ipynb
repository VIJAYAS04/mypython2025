{
  "nbformat": 4,
  "nbformat_minor": 0,
  "metadata": {
    "colab": {
      "provenance": []
    },
    "kernelspec": {
      "name": "python3",
      "display_name": "Python 3"
    },
    "language_info": {
      "name": "python"
    }
  },
  "cells": [
    {
      "cell_type": "code",
      "source": [
        "\n",
        "def find_gcd(a, b):\n",
        "    while b != 0:\n",
        "\n",
        "        temp = b\n",
        "        b = a % b\n",
        "        a = temp\n",
        "    return a\n",
        "\n",
        "\n",
        "num1 = int(input(\"Enter the first number: \"))\n",
        "num2 = int(input(\"Enter the second number: \"))\n",
        "\n",
        "gcd = find_gcd(num1, num2)\n",
        "print(f\"The Greatest Common Divisor (GCD) of {num1} and {num2} is {gcd}.\")\n"
      ],
      "metadata": {
        "id": "QVXR8lH5k_lw",
        "outputId": "d8e576d3-e394-4091-f843-16f0422a402c",
        "colab": {
          "base_uri": "https://localhost:8080/"
        }
      },
      "execution_count": 38,
      "outputs": [
        {
          "output_type": "stream",
          "name": "stdout",
          "text": [
            "Enter the first number: 8\n",
            "Enter the second number: 4\n",
            "The Greatest Common Divisor (GCD) of 8 and 4 is 4.\n"
          ]
        }
      ]
    }
  ]
}