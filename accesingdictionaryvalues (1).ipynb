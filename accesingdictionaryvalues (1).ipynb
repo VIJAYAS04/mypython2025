{
  "nbformat": 4,
  "nbformat_minor": 0,
  "metadata": {
    "colab": {
      "provenance": []
    },
    "kernelspec": {
      "name": "python3",
      "display_name": "Python 3"
    },
    "language_info": {
      "name": "python"
    }
  },
  "cells": [
    {
      "cell_type": "code",
      "source": [
        "my_dict = {\n",
        "    'name': 'alice',\n",
        "    'age' :  25,\n",
        "    'city': 'new york'\n",
        "}\n",
        "my_dict['occupation'] = 'engineer'\n",
        "my_dict['age'] = 26\n",
        "print(\"update dictionary:\",my_dict)"
      ],
      "metadata": {
        "colab": {
          "base_uri": "https://localhost:8080/"
        },
        "id": "CCznOZgj7F3k",
        "outputId": "93adfab0-5662-4b22-8841-aec2c909d6f4"
      },
      "execution_count": 41,
      "outputs": [
        {
          "output_type": "stream",
          "name": "stdout",
          "text": [
            "update dictionary: {'name': 'alice', 'age': 26, 'city': 'new york', 'occupation': 'engineer'}\n"
          ]
        }
      ]
    }
  ]
}