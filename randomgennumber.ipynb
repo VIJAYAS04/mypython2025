{
  "nbformat": 4,
  "nbformat_minor": 0,
  "metadata": {
    "colab": {
      "provenance": []
    },
    "kernelspec": {
      "name": "python3",
      "display_name": "Python 3"
    },
    "language_info": {
      "name": "python"
    }
  },
  "cells": [
    {
      "cell_type": "code",
      "source": [
        "import random\n",
        "\n",
        "\n",
        "def guess_the_number():\n",
        "\n",
        "    number_to_guess = random.randint(1, 100)\n",
        "    guess = None\n",
        "\n",
        "    print(\"Welcome to the number guessing game!\")\n",
        "    print(\"I have selected a number between 1 and 100. Try to guess it!\")\n",
        "\n",
        "\n",
        "    while guess != number_to_guess:\n",
        "\n",
        "        guess = int(input(\"Enter your guess: \"))\n",
        "\n",
        "\n",
        "        if guess < number_to_guess:\n",
        "            print(\"Too low! Try again.\")\n",
        "        elif guess > number_to_guess:\n",
        "            print(\"Too high! Try again.\")\n",
        "        else:\n",
        "            print(f\"Congratulations! You've guessed the correct number: {number_to_guess}\")\n",
        "\n",
        "\n",
        "guess_the_number()\n"
      ],
      "metadata": {
        "id": "J44L7ndDhlYK"
      },
      "execution_count": null,
      "outputs": []
    }
  ]
}