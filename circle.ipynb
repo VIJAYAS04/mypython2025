{
  "nbformat": 4,
  "nbformat_minor": 0,
  "metadata": {
    "colab": {
      "provenance": []
    },
    "kernelspec": {
      "name": "python3",
      "display_name": "Python 3"
    },
    "language_info": {
      "name": "python"
    }
  },
  "cells": [
    {
      "cell_type": "code",
      "source": [
        "r =float(input(\"enter radius of circle\"))\n",
        "area=3.14*r*r\n",
        "print(\"area of circle\",area)"
      ],
      "metadata": {
        "colab": {
          "base_uri": "https://localhost:8080/"
        },
        "id": "RFaoWdgKaIeS",
        "outputId": "55f99fd7-dfa3-4782-8c53-89269aede7f4"
      },
      "execution_count": 10,
      "outputs": [
        {
          "output_type": "stream",
          "name": "stdout",
          "text": [
            "enter radius of circle3\n",
            "area of circle 28.259999999999998\n"
          ]
        }
      ]
    }
  ]
}