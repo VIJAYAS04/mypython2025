{
  "nbformat": 4,
  "nbformat_minor": 0,
  "metadata": {
    "colab": {
      "provenance": []
    },
    "kernelspec": {
      "name": "python3",
      "display_name": "Python 3"
    },
    "language_info": {
      "name": "python"
    }
  },
  "cells": [
    {
      "cell_type": "code",
      "source": [
        "\n",
        "def sum_of_squares(N):\n",
        "    total = 0\n",
        "    for i in range(1, N + 1):\n",
        "        total += i ** 2\n",
        "    return total\n",
        "\n",
        "\n",
        "N = int(input(\"Enter a number N: \"))\n",
        "\n",
        "\n",
        "result = sum_of_squares(N)\n",
        "print(f\"The sum of squares of the first {N} natural numbers is {result}.\")\n",
        "\n"
      ],
      "metadata": {
        "id": "smPbWnFlmHr-",
        "outputId": "74981f20-43da-4cd0-df85-5059755e2da5",
        "colab": {
          "base_uri": "https://localhost:8080/"
        }
      },
      "execution_count": 40,
      "outputs": [
        {
          "output_type": "stream",
          "name": "stdout",
          "text": [
            "Enter a number N: 5\n",
            "The sum of squares of the first 5 natural numbers is 55.\n"
          ]
        }
      ]
    }
  ]
}