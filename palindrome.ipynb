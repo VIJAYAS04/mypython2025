{
  "nbformat": 4,
  "nbformat_minor": 0,
  "metadata": {
    "colab": {
      "provenance": []
    },
    "kernelspec": {
      "name": "python3",
      "display_name": "Python 3"
    },
    "language_info": {
      "name": "python"
    }
  },
  "cells": [
    {
      "cell_type": "code",
      "source": [
        "\n",
        "def is_palindrome(value):\n",
        "\n",
        "    value_str = str(value)\n",
        "    return value_str == value_str[::-1]\n",
        "\n",
        "user_input = input(\"Enter a number or a string: \")\n",
        "\n",
        "if is_palindrome(user_input):\n",
        "    print(f\"'{user_input}' is a palindrome.\")\n",
        "else:\n",
        "    print(f\"'{user_input}' is not a palindrome.\")\n"
      ],
      "metadata": {
        "id": "IAZqQSGhe6Gh",
        "outputId": "5695612d-7989-4cc8-dafb-b8b166dbb458",
        "colab": {
          "base_uri": "https://localhost:8080/"
        }
      },
      "execution_count": 26,
      "outputs": [
        {
          "output_type": "stream",
          "name": "stdout",
          "text": [
            "Enter a number or a string: 8\n",
            "'8' is a palindrome.\n"
          ]
        }
      ]
    }
  ]
}