{
  "nbformat": 4,
  "nbformat_minor": 0,
  "metadata": {
    "colab": {
      "provenance": []
    },
    "kernelspec": {
      "name": "python3",
      "display_name": "Python 3"
    },
    "language_info": {
      "name": "python"
    }
  },
  "cells": [
    {
      "cell_type": "code",
      "source": [
        "\n",
        "def demonstrate_break_continue():\n",
        "    print(\"Using break statement:\")\n",
        "\n",
        "    for i in range(1, 11):\n",
        "        if i == 5:\n",
        "            print(f\"Breaking the loop at i = {i}\")\n",
        "            break\n",
        "        print(f\"i = {i}\")\n",
        "\n",
        "    print(\"\\nUsing continue statement:\")\n",
        "\n",
        "    for i in range(1, 11):\n",
        "        if i == 5:\n",
        "            print(f\"Skipping i = {i}\")\n",
        "            continue\n",
        "        print(f\"i = {i}\")\n",
        "\n",
        "\n",
        "demonstrate_break_continue()\n"
      ],
      "metadata": {
        "id": "tYpaYfrGkaXW"
      },
      "execution_count": null,
      "outputs": []
    }
  ]
}