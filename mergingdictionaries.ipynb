{
  "nbformat": 4,
  "nbformat_minor": 0,
  "metadata": {
    "colab": {
      "provenance": []
    },
    "kernelspec": {
      "name": "python3",
      "display_name": "Python 3"
    },
    "language_info": {
      "name": "python"
    }
  },
  "cells": [
    {
      "cell_type": "code",
      "source": [
        "dict1 = {'name': 'Alice', 'age': 25}\n",
        "dict2 = {'city': 'New York', 'occupation': 'Engineer'}\n",
        "\n",
        "\n",
        "merged_dict = {**dict1, **dict2}\n",
        "\n",
        "\n",
        "print(\"Merged Dictionary:\", merged_dict)\n"
      ],
      "metadata": {
        "colab": {
          "base_uri": "https://localhost:8080/"
        },
        "id": "YIFwJLLpCpap",
        "outputId": "3b576442-95fc-4867-f52d-3b6b3fef1ee4"
      },
      "execution_count": 51,
      "outputs": [
        {
          "output_type": "stream",
          "name": "stdout",
          "text": [
            "Merged Dictionary: {'name': 'Alice', 'age': 25, 'city': 'New York', 'occupation': 'Engineer'}\n"
          ]
        }
      ]
    }
  ]
}