{
  "nbformat": 4,
  "nbformat_minor": 0,
  "metadata": {
    "colab": {
      "provenance": []
    },
    "kernelspec": {
      "name": "python3",
      "display_name": "Python 3"
    },
    "language_info": {
      "name": "python"
    }
  },
  "cells": [
    {
      "cell_type": "code",
      "source": [
        "a = 5\n",
        "b = 4\n",
        "print(a,b)\n",
        "print(f\"first number is {5},second number is {4}\")\n",
        "print(\"\"\"\"first number is{a}\n",
        "second number is{b})\"\"\")"
      ],
      "metadata": {
        "colab": {
          "base_uri": "https://localhost:8080/"
        },
        "id": "ms7oPA_6HlpE",
        "outputId": "5a2e2bef-8185-4daa-bbed-10df02f35485"
      },
      "execution_count": 14,
      "outputs": [
        {
          "output_type": "stream",
          "name": "stdout",
          "text": [
            "5 4\n",
            "first number is 5,second number is 4\n",
            "\"first number is{a}\n",
            "second number is{b})\n"
          ]
        }
      ]
    }
  ]
}