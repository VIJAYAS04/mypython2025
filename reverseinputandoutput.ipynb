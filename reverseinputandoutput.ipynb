{
  "nbformat": 4,
  "nbformat_minor": 0,
  "metadata": {
    "colab": {
      "provenance": []
    },
    "kernelspec": {
      "name": "python3",
      "display_name": "Python 3"
    },
    "language_info": {
      "name": "python"
    }
  },
  "cells": [
    {
      "cell_type": "code",
      "source": [
        "\n",
        "def reverse_number(number):\n",
        "\n",
        "    return int(str(number)[::-1])\n",
        "\n",
        "\n",
        "num = int(input(\"Enter an integer: \"))\n",
        "\n",
        "\n",
        "print(f\"The reverse of {num} is {reverse_number(num)}\")\n"
      ],
      "metadata": {
        "id": "zcMmvQMGfrHt",
        "outputId": "a1dda7c9-fea0-44b8-d6d4-78ee3b047ead",
        "colab": {
          "base_uri": "https://localhost:8080/"
        }
      },
      "execution_count": 27,
      "outputs": [
        {
          "output_type": "stream",
          "name": "stdout",
          "text": [
            "Enter an integer: 45\n",
            "The reverse of 45 is 54\n"
          ]
        }
      ]
    }
  ]
}