{
  "nbformat": 4,
  "nbformat_minor": 0,
  "metadata": {
    "colab": {
      "provenance": []
    },
    "kernelspec": {
      "name": "python3",
      "display_name": "Python 3"
    },
    "language_info": {
      "name": "python"
    }
  },
  "cells": [
    {
      "cell_type": "code",
      "source": [
        "def greet(name, greeting=\"hello\"):\n",
        "    return greeting + \" \" + name\n",
        "print(greet(\"Alice\"))\n",
        "\n",
        "\n",
        "print(greet(\"Bob\", \"Good morning\"))\n",
        "\n",
        "print(greet(\"Bob\", \"Good morning\"))\n"
      ],
      "metadata": {
        "colab": {
          "base_uri": "https://localhost:8080/"
        },
        "id": "IlMDrylOO8nT",
        "outputId": "7ef3e280-2833-45db-b325-442378e4674f"
      },
      "execution_count": 10,
      "outputs": [
        {
          "output_type": "stream",
          "name": "stdout",
          "text": [
            "hello Alice\n",
            "Good morning Bob\n",
            "Good morning Bob\n"
          ]
        }
      ]
    }
  ]
}