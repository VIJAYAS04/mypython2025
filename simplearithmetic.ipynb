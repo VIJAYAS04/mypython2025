{
  "nbformat": 4,
  "nbformat_minor": 0,
  "metadata": {
    "colab": {
      "provenance": []
    },
    "kernelspec": {
      "name": "python3",
      "display_name": "Python 3"
    },
    "language_info": {
      "name": "python"
    }
  },
  "cells": [
    {
      "cell_type": "code",
      "execution_count": 6,
      "metadata": {
        "colab": {
          "base_uri": "https://localhost:8080/"
        },
        "id": "WUQMTL_VTeGO",
        "outputId": "8a165163-c8bf-4258-b745-01195a02610b"
      },
      "outputs": [
        {
          "output_type": "stream",
          "name": "stdout",
          "text": [
            "enter first number1\n",
            "ente second nmber2\n",
            "add 3\n",
            "sub -1\n",
            "mul 2\n",
            "div 0.5\n"
          ]
        }
      ],
      "source": [
        "num1=int(input(\"enter first number\"))\n",
        "num2=int(input(\"ente second nmber\"))\n",
        "add=num1+num2\n",
        "sub=num1-num2\n",
        "mul=num1*num2\n",
        "div=num1/num2\n",
        "print(\"add\",num1+num2)\n",
        "print(\"sub\",num1-num2)\n",
        "print(\"mul\",num1*num2)\n",
        "print(\"div\",num1/num2)"
      ]
    }
  ]
}