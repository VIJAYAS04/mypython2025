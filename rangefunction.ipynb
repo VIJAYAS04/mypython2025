{
  "nbformat": 4,
  "nbformat_minor": 0,
  "metadata": {
    "colab": {
      "provenance": []
    },
    "kernelspec": {
      "name": "python3",
      "display_name": "Python 3"
    },
    "language_info": {
      "name": "python"
    }
  },
  "cells": [
    {
      "cell_type": "code",
      "source": [
        "import random\n",
        "\n",
        "def generate_random_number(start, end):\n",
        "    return random.randint(start, end)\n"
      ],
      "metadata": {
        "id": "VpaFCiSzRTu8"
      },
      "execution_count": 16,
      "outputs": []
    }
  ]
}