{
  "nbformat": 4,
  "nbformat_minor": 0,
  "metadata": {
    "colab": {
      "provenance": []
    },
    "kernelspec": {
      "name": "python3",
      "display_name": "Python 3"
    },
    "language_info": {
      "name": "python"
    }
  },
  "cells": [
    {
      "cell_type": "code",
      "source": [
        "my_tuple = (1,2,3,4,5)\n",
        "my_list = list(my_tuple)\n",
        "print(\"tuple converted to list:\",my_list)\n",
        "my_new_list = [6,7,8,9,10]\n",
        "my_new_tuple=tuple(my_new_list)\n",
        "print(\"list converted to tuple:\",my_new_tuple)"
      ],
      "metadata": {
        "colab": {
          "base_uri": "https://localhost:8080/"
        },
        "id": "aut6xlIe43Aa",
        "outputId": "5c4825d0-d1ae-4554-ac0d-73854c47e1c2"
      },
      "execution_count": 33,
      "outputs": [
        {
          "output_type": "stream",
          "name": "stdout",
          "text": [
            "tuple converted to list: [1, 2, 3, 4, 5]\n",
            "list converted to tuple: (6, 7, 8, 9, 10)\n"
          ]
        }
      ]
    }
  ]
}