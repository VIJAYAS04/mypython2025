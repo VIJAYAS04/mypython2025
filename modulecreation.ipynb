{
  "nbformat": 4,
  "nbformat_minor": 0,
  "metadata": {
    "colab": {
      "provenance": []
    },
    "kernelspec": {
      "name": "python3",
      "display_name": "Python 3"
    },
    "language_info": {
      "name": "python"
    }
  },
  "cells": [
    {
      "cell_type": "code",
      "source": [
        "import math\n",
        "\n",
        "\n",
        "def calculate_square_root(x):\n",
        "    return math.sqrt(x)\n",
        "\n",
        "\n",
        "def calculate_factorial(x):\n",
        "    if x < 0:\n",
        "        return \"Factorial is not defined for negative numbers\"\n",
        "    return math.factorial(x)\n",
        "\n",
        "\n",
        "def calculate_power(base, exponent):\n",
        "    return math.pow(base, exponent)\n",
        "\n",
        "\n",
        "def calculate_sine(angle):\n",
        "    return math.sin(angle)\n"
      ],
      "metadata": {
        "id": "msIN4F09Rrqk"
      },
      "execution_count": 17,
      "outputs": []
    }
  ]
}