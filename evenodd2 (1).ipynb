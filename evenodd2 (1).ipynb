{
  "nbformat": 4,
  "nbformat_minor": 0,
  "metadata": {
    "colab": {
      "provenance": []
    },
    "kernelspec": {
      "name": "python3",
      "display_name": "Python 3"
    },
    "language_info": {
      "name": "python"
    }
  },
  "cells": [
    {
      "cell_type": "code",
      "source": [
        "a =int(input(\"start trange\"))\n",
        "b =int(input(\"last range\"))\n",
        "sum =0\n",
        "for i in range(a,b+1):\n",
        "  sum=sum+i\n",
        "  print(sum)"
      ],
      "metadata": {
        "colab": {
          "base_uri": "https://localhost:8080/"
        },
        "id": "T3X_pbFFlvGO",
        "outputId": "893a8fd8-11d8-4cd0-a430-3eac6a962dfe"
      },
      "execution_count": 6,
      "outputs": [
        {
          "output_type": "stream",
          "name": "stdout",
          "text": [
            "start trange23\n",
            "last range43\n",
            "23\n",
            "47\n",
            "72\n",
            "98\n",
            "125\n",
            "153\n",
            "182\n",
            "212\n",
            "243\n",
            "275\n",
            "308\n",
            "342\n",
            "377\n",
            "413\n",
            "450\n",
            "488\n",
            "527\n",
            "567\n",
            "608\n",
            "650\n",
            "693\n"
          ]
        }
      ]
    },
    {
      "cell_type": "code",
      "source": [],
      "metadata": {
        "id": "tH2_koBUkhcd"
      },
      "execution_count": null,
      "outputs": []
    }
  ]
}