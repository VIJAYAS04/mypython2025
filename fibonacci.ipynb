{
  "nbformat": 4,
  "nbformat_minor": 0,
  "metadata": {
    "colab": {
      "provenance": []
    },
    "kernelspec": {
      "name": "python3",
      "display_name": "Python 3"
    },
    "language_info": {
      "name": "python"
    }
  },
  "cells": [
    {
      "cell_type": "code",
      "source": [
        "num=int(input(\"enter the number\"))\n",
        "a, b,= 0, 1\n",
        "for i in  range(num):\n",
        "  print(a ,end=\"\")\n",
        "  a, b = b, a+b"
      ],
      "metadata": {
        "colab": {
          "base_uri": "https://localhost:8080/"
        },
        "id": "IHvWo6oYp4el",
        "outputId": "3fbaafa7-0727-4dd3-c9ce-a51212fa9e87"
      },
      "execution_count": 12,
      "outputs": [
        {
          "output_type": "stream",
          "name": "stdout",
          "text": [
            "enter the number12\n",
            "01123581321345589"
          ]
        }
      ]
    }
  ]
}