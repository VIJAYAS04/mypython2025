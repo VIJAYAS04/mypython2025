{
  "nbformat": 4,
  "nbformat_minor": 0,
  "metadata": {
    "colab": {
      "provenance": []
    },
    "kernelspec": {
      "name": "python3",
      "display_name": "Python 3"
    },
    "language_info": {
      "name": "python"
    }
  },
  "cells": [
    {
      "cell_type": "code",
      "source": [
        "\n",
        "def is_perfect_number(number):\n",
        "    if number <= 0:\n",
        "        return False\n",
        "    divisors_sum = 0\n",
        "\n",
        "\n",
        "    for i in range(1, number // 2 + 1):\n",
        "        if number % i == 0:\n",
        "            divisors_sum += i\n",
        "\n",
        "\n",
        "    return divisors_sum == num\n",
        "num = int(input(\"Enter a number: \"))\n",
        "\n",
        "\n",
        "if is_perfect_number(num):\n",
        "    print(f\"{num} is a perfect number.\")\n",
        "else:\n",
        "    print(f\"{num} is not a perfect number.\")\n"
      ],
      "metadata": {
        "id": "EaPPDdmsi0wT",
        "outputId": "4e58c849-7a07-427e-b0e7-4e6291cbf66c",
        "colab": {
          "base_uri": "https://localhost:8080/"
        }
      },
      "execution_count": 34,
      "outputs": [
        {
          "output_type": "stream",
          "name": "stdout",
          "text": [
            "Enter a number: 5\n",
            "5 is not a perfect number.\n"
          ]
        }
      ]
    }
  ]
}