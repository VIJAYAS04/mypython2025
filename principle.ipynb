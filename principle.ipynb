{
  "nbformat": 4,
  "nbformat_minor": 0,
  "metadata": {
    "colab": {
      "provenance": []
    },
    "kernelspec": {
      "name": "python3",
      "display_name": "Python 3"
    },
    "language_info": {
      "name": "python"
    }
  },
  "cells": [
    {
      "cell_type": "code",
      "source": [
        "principle=float(input(\"enter the principle amount:\"))\n",
        "rate=float(input(\"enter the rate:\"))\n",
        "time=float(input(\"enter the time\"))\n",
        "si=(principle*rate*time)/100\n",
        "print(\"si\",si)"
      ],
      "metadata": {
        "colab": {
          "base_uri": "https://localhost:8080/"
        },
        "id": "HN8nmfnP6glZ",
        "outputId": "97b68a67-ecf9-4f34-cc51-0ecdf56ced92"
      },
      "execution_count": 3,
      "outputs": [
        {
          "output_type": "stream",
          "name": "stdout",
          "text": [
            "enter the principle amount:40000\n",
            "enter the rate:2\n",
            "enter the time7\n",
            "si 5600.0\n"
          ]
        }
      ]
    }
  ]
}